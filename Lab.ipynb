{
  "nbformat": 4,
  "nbformat_minor": 0,
  "metadata": {
    "colab": {
      "provenance": [],
      "collapsed_sections": [
        "VJ8dtLH2kzmY",
        "bZiRKsApnqCl",
        "tUzk3gb7TcSI",
        "HapsMSuZTuRt",
        "R1nemXeIz-mn",
        "hF2ZHobhmY6G"
      ],
      "authorship_tag": "ABX9TyONQsxne7uZI35dhaxumzFr",
      "include_colab_link": true
    },
    "kernelspec": {
      "display_name": "Python 3",
      "name": "python3"
    }
  },
  "cells": [
    {
      "cell_type": "markdown",
      "metadata": {
        "id": "view-in-github",
        "colab_type": "text"
      },
      "source": [
        "<a href=\"https://colab.research.google.com/github/hyagow/PythonExercicios/blob/main/Lab.ipynb\" target=\"_parent\"><img src=\"https://colab.research.google.com/assets/colab-badge.svg\" alt=\"Open In Colab\"/></a>"
      ]
    },
    {
      "cell_type": "markdown",
      "metadata": {
        "id": "VJ8dtLH2kzmY"
      },
      "source": [
        "#TESTANDO O CONHECIMENTO DE FOR... IN... RANGE.. LEN.."
      ]
    },
    {
      "cell_type": "code",
      "metadata": {
        "id": "-m3ty_qGd6o1"
      },
      "source": [
        "nome = input('Digite um nome: ')\n",
        "\n",
        "for i in range(len(nome)):\n",
        "  print('Achei o ', nome[i],'na posição:', i)"
      ],
      "execution_count": null,
      "outputs": []
    },
    {
      "cell_type": "code",
      "metadata": {
        "id": "h4Dk0c7Mnfnv"
      },
      "source": [
        "lista = ['a', 0, 1, 2, 'f']\n",
        "\n",
        "for i in lista:\n",
        "  print(i)"
      ],
      "execution_count": null,
      "outputs": []
    },
    {
      "cell_type": "markdown",
      "metadata": {
        "id": "bZiRKsApnqCl"
      },
      "source": [
        "#TESTANDO CONHECIMENTO EM FUNÇÕES: def..."
      ]
    },
    {
      "cell_type": "code",
      "metadata": {
        "id": "WNKIynmMnwh0"
      },
      "source": [
        "def receber():\n",
        "  num1 = input('Número: ')\n",
        "  num2 = input('Número: ')\n",
        "\n",
        "  if not num1.replace(',', '', 1).isdigit() or not num2.replace(',', '', 1).isdigit():\n",
        "    print('Números não possuem letras, tente novamente')\n",
        "    return receber()\n",
        "  operacao = input('Digite a operação que deseja realizar:\\n[A]:  ADIÇÃO\\n[B]:\\\n",
        "  SUBTRAÇÃO\\n[C]:  MULTIPLICAÇÃO\\n[D]:  DIVISÃO\\n').upper()\n",
        "\n",
        "  if operacao == 'A':\n",
        "    resultado = float(num1) + float(num2)\n",
        "    # print(resultado)\n",
        "\n",
        "  elif operacao == 'B':\n",
        "    resultado = float(num1) - float(num2)\n",
        "\n",
        "    # print(resultado)\n",
        "  elif operacao == 'C':\n",
        "    resultado = float(num1) * float(num2)\n",
        "\n",
        "    # print(resultado)\n",
        "  if operacao == 'D':\n",
        "    resultado = float(num1) / float(num2)\n",
        "\n",
        "  return 'New number:', resultado\n",
        "\n",
        "# quando tratasse de return, não precisa utilizar print ou armazenar em uma var\n",
        "receber()\n"
      ],
      "execution_count": null,
      "outputs": []
    },
    {
      "cell_type": "code",
      "metadata": {
        "id": "SczsVBRVqFNv"
      },
      "source": [
        "def conta_bomba(A, lin, col):\n",
        "  posicoes_com_bomba = 0\n",
        "  if lin > 0 and A[lin-1][col] == -1:\n",
        "    posicoes_com_bomba += 1\n",
        "  if lin < len(A) - 1 and A[lin+1][col] == -1:\n",
        "    posicoes_com_bomba += 1\n",
        "  if col > 0 and A[lin][col-1] == -1:\n",
        "    posicoes_com_bomba += 1\n",
        "  if col < len(A[0]) - 1 and A[lin][col+1] == -1:\n",
        "    posicoes_com_bomba += 1\n",
        "\n",
        "  return posicoes_com_bomba\n",
        "\n",
        "def main():\n",
        "  m = int(input(\"Numero de linhas: \"))\n",
        "  n = int(input(\"Numero de colunas: \"))\n",
        "  A = []\n",
        "  for i in range(m):\n",
        "    linha = []\n",
        "    for j in range(n):\n",
        "        linha.append(int(input(\"Digite A[%d][%d]: \" % (i, j))))\n",
        "    A.append(linha)\n",
        "  for i in range(m):\n",
        "    for j in range(n):\n",
        "      print(\"Bombas ao redor de A[%d][%d]: %d\" % (i, j, conta_bomba(A, i, j)))\n",
        "main()"
      ],
      "execution_count": null,
      "outputs": []
    },
    {
      "cell_type": "markdown",
      "metadata": {
        "id": "tUzk3gb7TcSI"
      },
      "source": [
        "# Abaixo é o exercício finalizado de POSTO DE GASOLINA"
      ]
    },
    {
      "cell_type": "code",
      "metadata": {
        "id": "2P2_D0trLWE2"
      },
      "source": [
        "def opcao(litros):\n",
        "    tipo = input('Qual o tipo de combustível: \\n[A] - Álcool\\n[G] - Gasolina\\n').upper()\n",
        "    if tipo == 'A':\n",
        "      litros = int(litros)  # CONVERSÃO\n",
        "      if litros <= 20:\n",
        "          menor_a = (litros - (litros / 100 * 3)) * 1.9\n",
        "          print(f'\\n{menor_a:.2f}\\n')\n",
        "\n",
        "      elif litros > 20:\n",
        "          maior_a = (litros - (litros / 100 * 5)) * 1.9\n",
        "          print(f'\\n{maior_a:.2f}\\n')\n",
        "\n",
        "    if tipo == 'G':\n",
        "      litros = int(litros) # CONVERSÃO 2\n",
        "      if litros <= 20:\n",
        "        menor_g = (litros - (litros / 100 * 4)) * 2.5\n",
        "        print(f'\\n{menor_g:.2f}\\n')\n",
        "\n",
        "      elif litros > 20:\n",
        "          maior_g = (litros - (litros / 100 * 6)) * 2.5\n",
        "          print(f'\\n{maior_g:.2f}\\n')\n",
        "\n",
        "def input_litros(lin):\n",
        "\n",
        "    if (lin.isnumeric()):\n",
        "        print('\\nYEEEEAH!!\\n')\n",
        "        opcao(lin)\n",
        "\n",
        "    elif (lin.replace('.', '', 1).isnumeric()):\n",
        "        print('\\nYEEEEAH!!\\n')\n",
        "        opcao(lin)\n",
        "\n",
        "    else:\n",
        "        print('Isso não é um número, tente novamente!')\n",
        "\n",
        "from random import randint\n",
        "\n",
        "for i in range(5):\n",
        "    litros = randint(0, 30)\n",
        "\n",
        "litros = input('Quantos litros deseja comprar: ')\n",
        "input_litros(litros)\n",
        "\n",
        "\n",
        "\"\"\"\n",
        "1 - Valores devem ficar fora.\n",
        "2 - Ao definir as funções passar parâmetros - \"input_litros(litros)\".\n",
        "3 - No caso acima a função \"def input_litros(lin)\" é a primária(main).\n",
        "    Ela verifica e chama a secundária!\n",
        "4 - Nesse caso a função \"def opcao(litros)\" é secundária.\n",
        "\n",
        "\"\"\""
      ],
      "execution_count": null,
      "outputs": []
    },
    {
      "cell_type": "markdown",
      "metadata": {
        "id": "HapsMSuZTuRt"
      },
      "source": [
        "# EXERCÍCIO 27 DE PYTHON - VENDA DE FRUTAS"
      ]
    },
    {
      "cell_type": "code",
      "metadata": {
        "id": "yxb3srE4T5Wi",
        "colab": {
          "base_uri": "https://localhost:8080/",
          "height": 356
        },
        "outputId": "a96ae2b1-5ab7-4a6b-8617-f6e80b1ba4ba"
      },
      "source": [
        "\"\"\"\n",
        "Uma fruteira está vendendo frutas com a seguinte tabela de preços:\n",
        "                      Até 5 Kg           Acima de 5 Kg\n",
        "Morango         R$ 2,50 por Kg          R$ 2,20 por Kg\n",
        "Maçã            R$ 1,80 por Kg          R$ 1,50 por Kg\n",
        "Se o cliente comprar mais de 8 Kg em frutas ou o valor total da compra\n",
        "ultrapassar R$ 25,00, receberá ainda um desconto de 10% sobre este total.\n",
        "# Escreva um algoritmo para ler a quantidade (em Kg) de morangos e a quantidade\n",
        "(em Kg) de maças adquiridas e escreva o valor a ser pago pelo cliente.\n",
        "\"\"\"\n",
        "\n",
        "def verificacao():\n",
        "  if morango_kg <= 5 and maca_kg <= 5:  # Outra opção  or maca_kg <= 5 and morango_kg <= 5\n",
        "    tt_frutas = morango_kg + maca_kg\n",
        "    v_morango = 2.5\n",
        "    v_maca = 1.8\n",
        "    v_tt_frutas = tt_frutas * (v_morango + v_maca)\n",
        "    print(tt_frutas,'1º')\n",
        "    print(v_tt_frutas)\n",
        "\n",
        "    if tt_frutas > 8 or v_tt_frutas > 25:\n",
        "      v_tt_frutas = v_tt_frutas - (v_tt_frutas / 100 * 10)\n",
        "      print(f'Valor com o desconto R${v_tt_frutas}\\n')\n",
        "    else:\n",
        "      pass\n",
        "\n",
        "  elif morango_kg > 5 and maca_kg > 5:\n",
        "    tt_frutas = morango_kg + maca_kg\n",
        "    v_morango = 2.2\n",
        "    v_maca = 1.5\n",
        "    v_tt_frutas = tt_frutas * (v_morango + v_maca)\n",
        "    print(tt_frutas,'2º')\n",
        "    print(v_tt_frutas)\n",
        "\n",
        "    if tt_frutas > 8 or v_tt_frutas > 25:\n",
        "      v_tt_frutas = v_tt_frutas - (v_tt_frutas / 100 * 10)\n",
        "      print(f'Valor com o desconto R${v_tt_frutas}\\n')\n",
        "    else:\n",
        "      pass\n",
        "\n",
        "  elif morango_kg > 5 and maca_kg <= 5:\n",
        "    tt_frutas = morango_kg + maca_kg\n",
        "    v_morango = 2.2\n",
        "    v_maca = 1.8\n",
        "    v_tt_frutas = tt_frutas * (v_morango + v_maca)\n",
        "    print(tt_frutas,'3º')\n",
        "    print(v_tt_frutas)\n",
        "\n",
        "    if tt_frutas > 8 or v_tt_frutas > 25:\n",
        "      v_tt_frutas = v_tt_frutas - (v_tt_frutas / 100 * 10)\n",
        "      print(f'Valor com o desconto R${v_tt_frutas}\\n')\n",
        "\n",
        "    else:\n",
        "      pass\n",
        "\n",
        "  elif morango_kg <= 5 and maca_kg > 5:\n",
        "    tt_frutas = morango_kg + maca_kg\n",
        "    v_morango = 2.5\n",
        "    v_maca = 1.5\n",
        "    v_tt_frutas = tt_frutas * (v_morango + v_maca)\n",
        "    print(tt_frutas,'4º')\n",
        "    print(v_tt_frutas)\n",
        "\n",
        "    if tt_frutas > 8 or v_tt_frutas > 25:\n",
        "      v_tt_frutas = v_tt_frutas - (v_tt_frutas / 100 * 10)\n",
        "      print(f'Valor com o desconto R${v_tt_frutas}\\n')\n",
        "    else:\n",
        "      pass\n",
        "\n",
        "  else:\n",
        "    print('Entrei na função, mas tem algo errado, poderia verificar?!')\n",
        "\n",
        "#INPUT\n",
        "morango_kg = input('Digite os kilos de morango deseja: ')\n",
        "maca_kg = input('Digite os kilos de maça deseja: ')\n",
        "\n",
        "#VAR\n",
        "morango_kg = float(morango_kg)\n",
        "maca_kg = float(maca_kg)\n",
        "\n",
        "verificacao()  # CHAMA FUNÇÃO\n"
      ],
      "execution_count": 1,
      "outputs": [
        {
          "output_type": "error",
          "ename": "KeyboardInterrupt",
          "evalue": "Interrupted by user",
          "traceback": [
            "\u001b[0;31m---------------------------------------------------------------------------\u001b[0m",
            "\u001b[0;31mKeyboardInterrupt\u001b[0m                         Traceback (most recent call last)",
            "\u001b[0;32m<ipython-input-1-d2653656a2ec>\u001b[0m in \u001b[0;36m<cell line: 74>\u001b[0;34m()\u001b[0m\n\u001b[1;32m     72\u001b[0m \u001b[0;34m\u001b[0m\u001b[0m\n\u001b[1;32m     73\u001b[0m \u001b[0;31m#INPUT\u001b[0m\u001b[0;34m\u001b[0m\u001b[0;34m\u001b[0m\u001b[0m\n\u001b[0;32m---> 74\u001b[0;31m \u001b[0mmorango_kg\u001b[0m \u001b[0;34m=\u001b[0m \u001b[0minput\u001b[0m\u001b[0;34m(\u001b[0m\u001b[0;34m'Digite os kilos de morango deseja: '\u001b[0m\u001b[0;34m)\u001b[0m\u001b[0;34m\u001b[0m\u001b[0;34m\u001b[0m\u001b[0m\n\u001b[0m\u001b[1;32m     75\u001b[0m \u001b[0mmaca_kg\u001b[0m \u001b[0;34m=\u001b[0m \u001b[0minput\u001b[0m\u001b[0;34m(\u001b[0m\u001b[0;34m'Digite os kilos de maça deseja: '\u001b[0m\u001b[0;34m)\u001b[0m\u001b[0;34m\u001b[0m\u001b[0;34m\u001b[0m\u001b[0m\n\u001b[1;32m     76\u001b[0m \u001b[0;34m\u001b[0m\u001b[0m\n",
            "\u001b[0;32m/usr/local/lib/python3.10/dist-packages/ipykernel/kernelbase.py\u001b[0m in \u001b[0;36mraw_input\u001b[0;34m(self, prompt)\u001b[0m\n\u001b[1;32m    849\u001b[0m                 \u001b[0;34m\"raw_input was called, but this frontend does not support input requests.\"\u001b[0m\u001b[0;34m\u001b[0m\u001b[0;34m\u001b[0m\u001b[0m\n\u001b[1;32m    850\u001b[0m             )\n\u001b[0;32m--> 851\u001b[0;31m         return self._input_request(str(prompt),\n\u001b[0m\u001b[1;32m    852\u001b[0m             \u001b[0mself\u001b[0m\u001b[0;34m.\u001b[0m\u001b[0m_parent_ident\u001b[0m\u001b[0;34m,\u001b[0m\u001b[0;34m\u001b[0m\u001b[0;34m\u001b[0m\u001b[0m\n\u001b[1;32m    853\u001b[0m             \u001b[0mself\u001b[0m\u001b[0;34m.\u001b[0m\u001b[0m_parent_header\u001b[0m\u001b[0;34m,\u001b[0m\u001b[0;34m\u001b[0m\u001b[0;34m\u001b[0m\u001b[0m\n",
            "\u001b[0;32m/usr/local/lib/python3.10/dist-packages/ipykernel/kernelbase.py\u001b[0m in \u001b[0;36m_input_request\u001b[0;34m(self, prompt, ident, parent, password)\u001b[0m\n\u001b[1;32m    893\u001b[0m             \u001b[0;32mexcept\u001b[0m \u001b[0mKeyboardInterrupt\u001b[0m\u001b[0;34m:\u001b[0m\u001b[0;34m\u001b[0m\u001b[0;34m\u001b[0m\u001b[0m\n\u001b[1;32m    894\u001b[0m                 \u001b[0;31m# re-raise KeyboardInterrupt, to truncate traceback\u001b[0m\u001b[0;34m\u001b[0m\u001b[0;34m\u001b[0m\u001b[0m\n\u001b[0;32m--> 895\u001b[0;31m                 \u001b[0;32mraise\u001b[0m \u001b[0mKeyboardInterrupt\u001b[0m\u001b[0;34m(\u001b[0m\u001b[0;34m\"Interrupted by user\"\u001b[0m\u001b[0;34m)\u001b[0m \u001b[0;32mfrom\u001b[0m \u001b[0;32mNone\u001b[0m\u001b[0;34m\u001b[0m\u001b[0;34m\u001b[0m\u001b[0m\n\u001b[0m\u001b[1;32m    896\u001b[0m             \u001b[0;32mexcept\u001b[0m \u001b[0mException\u001b[0m \u001b[0;32mas\u001b[0m \u001b[0me\u001b[0m\u001b[0;34m:\u001b[0m\u001b[0;34m\u001b[0m\u001b[0;34m\u001b[0m\u001b[0m\n\u001b[1;32m    897\u001b[0m                 \u001b[0mself\u001b[0m\u001b[0;34m.\u001b[0m\u001b[0mlog\u001b[0m\u001b[0;34m.\u001b[0m\u001b[0mwarning\u001b[0m\u001b[0;34m(\u001b[0m\u001b[0;34m\"Invalid Message:\"\u001b[0m\u001b[0;34m,\u001b[0m \u001b[0mexc_info\u001b[0m\u001b[0;34m=\u001b[0m\u001b[0;32mTrue\u001b[0m\u001b[0;34m)\u001b[0m\u001b[0;34m\u001b[0m\u001b[0;34m\u001b[0m\u001b[0m\n",
            "\u001b[0;31mKeyboardInterrupt\u001b[0m: Interrupted by user"
          ]
        }
      ]
    },
    {
      "cell_type": "markdown",
      "metadata": {
        "id": "R1nemXeIz-mn"
      },
      "source": [
        "#**EXERCÍCIO PROPOSTO: Cálculo de Valores do Carrinho - LUIZ OTÁVIO**"
      ]
    },
    {
      "cell_type": "code",
      "metadata": {
        "id": "X4lVKt5r2YWe"
      },
      "source": [
        "l1 = [1, 2, 3, 4, 5, 6, 7, 8, 9]\n",
        "\n",
        "l2 = [variavel for variavel in l1]\n",
        "print(l2)\n",
        "\n",
        "l3 = [v * 2 for v in l1]\n",
        "print(l3)\n",
        "\n",
        "l4 = [(v, v2) for v in l1 for v2 in range(3)]  # v itera sobre a (l1) e o v2 ite\n",
        "                                               # ra sobre o range()\n",
        "#print(l4)\n",
        "print('*' * 85)\n",
        "################################################################################\n",
        "\n",
        "carrinho = []\n",
        "\n",
        "carrinho.append(('Produto 1', 30))\n",
        "carrinho.append(('Produto 2', 20))\n",
        "carrinho.append(('Produto 3', 50))\n",
        "\n",
        "# total = []\n",
        "# for produto in carrinho:\n",
        "#   total.append(produto[1])\n",
        "# print(sum(total))\n",
        "\n",
        "print()\n",
        "\n",
        "Total = sum([ float(y) for x, y in carrinho])\n",
        "\n",
        "print(Total)"
      ],
      "execution_count": null,
      "outputs": []
    },
    {
      "cell_type": "markdown",
      "metadata": {
        "id": "hF2ZHobhmY6G"
      },
      "source": [
        "#**ZIP e ZIP_LONGEST #Bônus: Básico do Count**"
      ]
    },
    {
      "cell_type": "code",
      "metadata": {
        "id": "qGBkeWkEbPV5"
      },
      "source": [
        "\"\"\"\n",
        "Zip - Unindo interáveis - menor lista\\\n",
        "      no caso de usar count, utilizar o zip comum\n",
        "Zip_longest - itertools - maior lista\\ precisa importar do itertools\n",
        "\"\"\"\n",
        "from itertools import zip_longest, count\n",
        "\n",
        "indice = count()\n",
        "### Código\n",
        "cidades = ['São Paulo', 'Belo Horizonte', 'Salvador', 'Monte Belo']\n",
        "\n",
        "# Código\n",
        "estados = ['SP', 'MG', 'BA']\n",
        "\n",
        "cidades_estados = zip(\n",
        "    indice,\n",
        "    estados,\n",
        "    cidades,\n",
        "    # fillvalue='Estado'\n",
        ")\n",
        "# print(dict(cidades_estados))\n",
        "# print(next(cidades_estados))\n",
        "# for valor in cidades_estados:\n",
        "#   print(dict(valor))\n",
        "\n",
        "for indice, estado, cidade in cidades_estados:\n",
        "  print(indice, estado, cidade)"
      ],
      "execution_count": null,
      "outputs": []
    },
    {
      "cell_type": "markdown",
      "metadata": {
        "id": "SyO-mvFUmm8-"
      },
      "source": [
        "**EXERCÍCIO DE APLICAÇÃO DE CONTEÚDO OBTIDO.**"
      ]
    },
    {
      "cell_type": "code",
      "metadata": {
        "id": "172O5kZTmmOA"
      },
      "source": [
        "\"\"\"\n",
        "Considerando duas listas de inteiros ou floats (lista A e Lista B)\n",
        "Some os valores nas listas retornando uma nova lista com os valores:\n",
        "\n",
        "Se uma lista for maior que a outra, a soma só vai considerar o tamanho da menor.\n",
        "\n",
        "Exemplo:\n",
        "lista_a  = [1, 2, 3, 4, 5, 6, 7]\n",
        "lista_b  = [1, 2, 3, 4]\n",
        "\n",
        "******************** resultado\n",
        "lista_soma = [2, 4, 6, 8]\n",
        "\"\"\"\n",
        "print('Exercício proposto:')\n",
        "\n",
        "lista_a = [range(7)]  # PAREI AQUI!\n",
        "lista_b = [1,2,3,4]\n",
        "\n",
        "lista_total = zip(lista_a, lista_b)\n",
        "\n",
        "lista_soma = sum(lista_a, lista_b)\n",
        "\n",
        "print(lista_soma)\n",
        "\n",
        "# print('-' * 30,'Supermercado CompreMais', '-'* 30, '\\n')\n",
        "\n",
        "# carrinho = []\n",
        "# def total(carrinho):\n",
        "#   total = sum([ float(y) for x, y in carrinho])\n",
        "#   print(x)\n",
        "#   print(f'Valor total: R$ {total}')\n",
        "\n",
        "# def input_compra(carrinho):\n",
        "#   while True:\n",
        "#     produto = input('Produto: ')\n",
        "#     valor = float(input('Digite o valor do produto: R$ '))\n",
        "#     produto = produto, valor\n",
        "#     carrinho.append(produto)\n",
        "#     print(carrinho)\n",
        "#     continuacao = input('\\nSó isso mesmo? [S/N]\\n').upper()\n",
        "#     if continuacao == 'S':\n",
        "#       continue\n",
        "#     else:\n",
        "#       total(carrinho)\n",
        "#       break\n",
        "\n",
        "\n",
        "# input_compra(carrinho)\n"
      ],
      "execution_count": null,
      "outputs": []
    },
    {
      "cell_type": "markdown",
      "metadata": {
        "id": "7q5OeQUuD7ls"
      },
      "source": [
        "Aplicação de Conhecimento: Projeto - Simulador de Dado"
      ]
    },
    {
      "cell_type": "code",
      "metadata": {
        "id": "2chyZE5qD_rf"
      },
      "source": [
        "from random import randint\n",
        "\n",
        "\n",
        "print('x'* 10, ' SIMULADOR DE DADOS ', 'x'*10)\n",
        "start = input('Deseja rolar o DADO [S/N]? ').upper()\n",
        "\n",
        "while True:\n",
        "  if start == 'S':\n",
        "    a = randint(1,6)\n",
        "    print('\\n', a, '\\n')\n",
        "    inserir = input('PRESSIONE [S] E ROLE NOVAMENTE OU QUALQUER TECLA\\\n",
        " PARA SAIR:').upper()\n",
        "\n",
        "    if inserir == 'S':\n",
        "      continue\n",
        "    else:\n",
        "      print('Saindo do prog....')\n",
        "      break\n",
        "print('FIM')\n",
        "\n"
      ],
      "execution_count": null,
      "outputs": []
    },
    {
      "cell_type": "code",
      "metadata": {
        "id": "mNUU_hxHSwSU"
      },
      "source": [
        "from random import randint\n",
        "\n",
        "print('-' * 15, ' CHUTANDO NÚMEROS ', '-' * 15)\n",
        "b = randint(0, 10)\n",
        "\n",
        "while True:\n",
        "  start = input('Deseja chutar um número [S/N]? ').upper()\n",
        "  if start == 'S':\n",
        "    b = b\n",
        "    escolha = input('Chute um número de 0 a 10: ')\n",
        "\n",
        "    if escolha.isalpha():\n",
        "      print('Você não chutou um número entre 0 a 10')\n",
        "      escolha.isnumeric()\n",
        "      continue\n",
        "\n",
        "    if int(escolha) == b:\n",
        "      print('Nice!!!')\n",
        "      pass\n",
        "\n",
        "    elif int(escolha) > 4:\n",
        "      print('Chutou alto...')\n",
        "\n",
        "    elif int(escolha) < 4:\n",
        "      print('Chutou baixo...')\n",
        "      continue\n",
        "\n",
        "  elif start == 'N':\n",
        "    print('Okay, não rolei os dados..')\n",
        "    print('FIM')\n",
        "    break\n",
        "\n",
        "  else:\n",
        "    print('\\nAs opções que temos são: S - Sim e N - Não.\\n')\n",
        "    pass\n",
        "print('Obrigado pelo tempo que passamos juntos!')\n"
      ],
      "execution_count": null,
      "outputs": []
    },
    {
      "cell_type": "code",
      "metadata": {
        "id": "zYc3fUDdf_X2"
      },
      "source": [
        "import random\n",
        "from random import choice\n",
        "print('#' * 15, ' DECIDAM POR MIM ', '#' * 15)\n",
        "while True:\n",
        "  l = [\n",
        "      'CUUUUIDA!!', 'Se joga!!', 'Se tu não for, eu vou!', 'Você não deveria ir',\n",
        "      'Será que seria interessante repensar?', 'Já ponderou?',\n",
        "      'Não, de forma alguma', 'Talves amanhã',\n",
        "      'Quinta-feira é um bom dia pra isso', 'Sim, sim!', 'Não, não!', 'Talves!',\n",
        "      'Escolha outro(a)', 'Não se iluda', 'Aja como quem já sabe',\n",
        "      'Seja proativo', 'Faça o seu melhor!', 'É... pode ser',\n",
        "      'Caso sim, vá com tudo!', 'Duvido muito que isso seja bom', 'Cuidado!',\n",
        "      'Seja ousado(a)', 'Vai chover, você estará preparado?',\n",
        "      'Cada dia o seu mal', 'Kkkkk, não mesmo.', 'kkkk, tipo isso', 'Go! Go!',\n",
        "      'Invés disso, procure uma nova atividade', 'Quero ver melhorar..',\n",
        "      'Não, fica em casa mesmo', 'Sim vá logo!', 'Que horas vai ser isso?',\n",
        "      'Hoje?', 'Pode ser...', 'Se não for tão fora da rotina, faça!'\n",
        "  ]\n",
        "\n",
        "  print('\\nFaça aqui sua pergunta\\n')\n",
        "  pergunta = input()\n",
        "\n",
        "  resposta = random.choice(l)\n",
        "  print(resposta)\n",
        "  #<https://devaprender.com/5-ideias-de-projetos-python-para-iniciantes/?unapproved=312&moderation-hash=8025f44a751f657a27fcacd74f307063#comment-312>"
      ],
      "execution_count": null,
      "outputs": []
    },
    {
      "cell_type": "code",
      "metadata": {
        "id": "DWV8c5evTUSM"
      },
      "source": [
        "# AVENTURA NO BOSQUE\n",
        "\n",
        "print('x' * 20, ' AVENTURA NO BOSQUE ', 'x' * 20)\n",
        "start = input('Vamos começar a aventura? [S/N]: ').upper()\n",
        "\n",
        "\n",
        "while True:\n",
        "  cenarios = [\n",
        "     '', '', '', '', '', '', '', '', ''\n",
        "]\n",
        "  if start == 'S'\n",
        "\n",
        "\"\"\"\n",
        "- Você acabou de entrar em um avião, porém, enquanto estavam sobrevoando o\n",
        "Atlântico, percebe que o piloto está descendo o avião como quem está ciente do\n",
        "pouso, como se estivesse programado na escala de parada, você percebeu que tem\n",
        "algo estranho [ação1]: então abre a porta do piloto com muita força ou\n",
        "[ação1.1]: após ter cansado de tentar para tomar um folego e acaba desistindo,\n",
        "você vê o piloto deitado aparentemente dormindo, porém você [ação2]:\n",
        "\n",
        "\n",
        "https://developers.google.com/edu/python/lists\"\"\"\n"
      ],
      "execution_count": null,
      "outputs": []
    },
    {
      "cell_type": "markdown",
      "metadata": {
        "id": "N8C18qSHeeGc"
      },
      "source": [
        "**AULA DE USO DE TRY E EXCEPT COMO CONDICIONAL (79)**"
      ]
    },
    {
      "cell_type": "code",
      "metadata": {
        "id": "uoVsxKzEedMd"
      },
      "source": [
        "def converter_numero(valor):\n",
        "    try:\n",
        "      valor = int(valor)\n",
        "      return valor\n",
        "    except ValueError:\n",
        "      try:\n",
        "        valor = float(valor)\n",
        "        return valor\n",
        "      except ValueError:\n",
        "        pass\n",
        "\n",
        "while True:\n",
        "  numero = converter_numero(input('Digite um número: '))\n",
        "\n",
        "  if numero is None:\n",
        "    print('Erro: Isso não é número.')\n",
        "  else:\n",
        "    print(numero * 5)\n"
      ],
      "execution_count": null,
      "outputs": []
    },
    {
      "cell_type": "markdown",
      "metadata": {
        "id": "lGgDIi2jr0Sx"
      },
      "source": [
        "**AULA DE MÓDULOS PADRÃO DO PYTHON (80)**"
      ]
    },
    {
      "cell_type": "code",
      "metadata": {
        "id": "ruxnHuKjsFiX"
      },
      "source": [
        "# Módulos padrão do Python:\n",
        "# Módulos são arquivos .py (que contém código python) e servem para expandir\n",
        "# as funcionalidades padrão da linguagem.\n",
        "# Veja todos os módulos padrão do Python em:\n",
        "# https://docs.python.org/3/py-modindex.html\n",
        "from random import randint as randint_original\n",
        "from sys import platform as so\n",
        "print(so)\n",
        "\n",
        "def randint(*args):\n",
        "  return 'Hahaha'\n",
        "\n",
        "for i in range(10):\n",
        "  print(randint_original(0,10))\n",
        "\n",
        "print(randint())"
      ],
      "execution_count": null,
      "outputs": []
    },
    {
      "cell_type": "code",
      "metadata": {
        "colab": {
          "base_uri": "https://localhost:8080/"
        },
        "id": "UslGWadEPoJI",
        "outputId": "06e635be-9c6d-4e2d-f184-33acc7b624e6"
      },
      "source": [
        "# nome do arquivo: calculos\n",
        "\n",
        "import math\n",
        "\n",
        "PI = math.pi\n",
        "\n",
        "def dobra_lista(lista):\n",
        "  return [ x*2 for x in lista]\n",
        "\n",
        "def multiplica(lista):\n",
        "  r = 1\n",
        "  for i in lista:\n",
        "    r *= 1\n",
        "  return r\n",
        "\n",
        "if __name__ == '__main__':\n",
        "  lista = [1, 2, 3, 4, 5]\n",
        "  print(dobra_lista(lista))\n",
        "  print(multiplica(lista))\n",
        "  print(PI)\n"
      ],
      "execution_count": null,
      "outputs": [
        {
          "output_type": "stream",
          "text": [
            "[2, 4, 6, 8, 10]\n",
            "1\n",
            "3.141592653589793\n"
          ],
          "name": "stdout"
        }
      ]
    },
    {
      "cell_type": "code",
      "metadata": {
        "id": "fSvYZkudRctY"
      },
      "source": [
        "#  nome do arquivo: aplicativo\n",
        "\n",
        "import calculos\n",
        "\n",
        "print(calculos.PI)\n",
        "\n",
        "lista = [2, 4]\n",
        "print(calculos.multiplica(lista))"
      ],
      "execution_count": null,
      "outputs": []
    },
    {
      "cell_type": "code",
      "metadata": {
        "id": "u-IHTu-ePJvX"
      },
      "source": [
        "print('Ex.: 4 e 5 - Crescimento Anual')\n",
        "\n",
        "# Loop\n",
        "while True:\n",
        "  # Países\n",
        "  A = input('Digite o total de habitantes do País A, atualmente: ').replace('.', '', 1)\n",
        "  T_a = input('Digite o valor da taxa do País A: ').replace('.', '', 1)\n",
        "\n",
        "  B = input('Digite o total de habitantes do País B, atualmente: ').replace('.', '', 1)\n",
        "  T_b = input('Digite o valor da taxa do País B: ')\n",
        "\n",
        "  # VERIFICAÇÃO\n",
        "  if not A.replace('.', '', 1).isdigit() or \\\n",
        "  not T_a.replace('.', '', 1).isdigit() or \\\n",
        "  not B.replace('.', '', 1).isdigit() or not T_b.replace('.', '', 1).isdigit():\n",
        "    print('Verifique se digitou valores numéricos, pois letras não são aceitas.\\\n",
        "    ')\n",
        "  else:\n",
        "    A = float(A)\n",
        "    B = float(B)\n",
        "    ano = 0\n",
        "    while A <= B:\n",
        "      # Taxa de Crescimento da População.\n",
        "\n",
        "      A += A * float(T_a) / 100\n",
        "      B += B * float(T_b) / 100\n",
        "      ano += 1\n",
        "\n",
        "    else:\n",
        "      print(f'\\nO País A possuirá {A:.0f} habitantes precisará de {ano} \\\n",
        "ano(s) para alcançar ou ultrapassar o País B que possurái {B:.0f} habitantes.')\n",
        "      break"
      ],
      "execution_count": null,
      "outputs": []
    },
    {
      "cell_type": "code",
      "metadata": {
        "id": "TPjDs2OD_4El"
      },
      "source": [
        "print('Ex.: 6 - Imprimir lista na vertical e na horizontal.')\n",
        "for i in range(1, 21):\n",
        "  l = []\n",
        "  l.append(i)\n",
        "  print(l)\n",
        "\n",
        "l = [1, 2, 3, 4, 5, 6, 7, 8, 9, 10, 11, 12, 13, 14, 15, 16, 17, 18, 19, 20]\n",
        "print(l)"
      ],
      "execution_count": null,
      "outputs": []
    },
    {
      "cell_type": "code",
      "metadata": {
        "id": "rGBIg_21Jge9",
        "colab": {
          "base_uri": "https://localhost:8080/"
        },
        "outputId": "1d45e0dd-218a-4ada-f0b6-b458efc1ea9f"
      },
      "source": [
        "print('Ex.: 7 - Quem é o maior?\\n')\n",
        "\n",
        "l = []\n",
        "\n",
        "#LOOOP!\n",
        "for i in range(5):\n",
        "  l.append(int(input('Digite um número: ')))\n",
        "\n",
        "print('O maior é: ', max(l))\n",
        "print(l)"
      ],
      "execution_count": null,
      "outputs": [
        {
          "output_type": "stream",
          "text": [
            "Ex.: 7 - Quem é o maior?\n",
            "\n",
            "Digite um número: 5\n",
            "Digite um número: 64\n",
            "Digite um número: 13\n",
            "Digite um número: 25\n",
            "Digite um número: 94\n",
            "O maior é:  94\n",
            "[5, 64, 13, 25, 94]\n"
          ],
          "name": "stdout"
        }
      ]
    },
    {
      "cell_type": "code",
      "metadata": {
        "id": "M3Vef4ob67_b"
      },
      "source": [
        "L = []\n",
        "\n",
        "for n in range(50):\n",
        "  if not n % 2 == 0:\n",
        "    print(n)"
      ],
      "execution_count": null,
      "outputs": []
    },
    {
      "cell_type": "code",
      "metadata": {
        "id": "B77_4zmb8gpB"
      },
      "source": [
        "print('x' * 15, ' Lista de Tarefas ', 'x' * 15)\n",
        "\n",
        "a = print('\\n[1] Adicionar Tarefa\\n[2] Listar Tarefas\\n[3] Desfazer\\n\\\n",
        "[4] Refazer')\n",
        "opcoes = input('Digite Sua Opção: ')\n",
        "l = ['Tarefa 1', 'Tarefa 2']\n",
        "if opcoes == '1':\n",
        "    add = input('Digite o sua tarefa: ')\n",
        "    l.append(add)\n",
        "    print('Atividade adicionada:', add)\n",
        "    rdm = input('[1] Refaz? [2] Desfaz? [3] Manter? [4] Sair?')\n",
        "    if rdm == '1':\n",
        "        print('Em desenvolvimento...')\n",
        "    elif rdm == '2':\n",
        "        print('Em desenvolvimento..')\n",
        "    elif rdm == '3':\n",
        "        print('Em desenvolvimento.')\n",
        "    elif rdm == '4':\n",
        "        pass\n",
        "else:\n",
        "    rem = input('Remover a tarefa: ')\n",
        "    l.remove(rem)\n",
        "    print('Atividade removida:', rem)\n",
        "\n",
        "# elif opcoes == '3':\n",
        "#     refaz = input('Refazer')\n",
        "\n",
        "# elif opcoes == '4':\n",
        "#     desfazer = input('Desfazer')\n",
        "#     print()\n",
        "\n",
        "print(l)\n",
        "\n",
        "# EM ANDAMENTO>>>>"
      ],
      "execution_count": null,
      "outputs": []
    },
    {
      "cell_type": "code",
      "metadata": {
        "colab": {
          "base_uri": "https://localhost:8080/"
        },
        "id": "mrKg-OjtLpOS",
        "outputId": "3cecf166-dec5-480b-fd33-3e405335120d"
      },
      "source": [
        "\"\"\"https://www.coursera.org/professional-certificates/ibm-data-science\"\"\"\n",
        "\n",
        "# Treino de Data Science na IBM -- Quando terminar o Python Para DS e IA\n",
        "print('Para o alto e a inteligência artificial!!!')"
      ],
      "execution_count": null,
      "outputs": [
        {
          "output_type": "stream",
          "text": [
            "Para o alto e a inteligência artificial!!!\n"
          ],
          "name": "stdout"
        }
      ]
    },
    {
      "cell_type": "markdown",
      "metadata": {
        "id": "uVECNxukB8oB"
      },
      "source": [
        "# **EXERCÍCIOS DO APLICATIVO: APRENDA PYTHON**"
      ]
    },
    {
      "cell_type": "code",
      "metadata": {
        "id": "NzM9-EwbB79r"
      },
      "source": [
        "\n",
        "\n",
        "# def vogais(palavra):\n",
        "#     lista_vogais = []\n",
        "#     for 'a' in palavra or 'e' in palavra or 'i' in palavra or 'o' in palavra or 'u' in palavra:\n",
        "#         lista_vogais.append(palavra)\n",
        "#         return lista_vogais\n",
        "# # print(lista_vogais)\n",
        "# vogais('abcde')\n",
        "\n",
        "# DEF ACIMA ESTÁ ERRADA!\n",
        "\n",
        "def vogais(s):\n",
        "    return [i for i in s if i.lower() in ['a', 'e', 'i', 'o', 'u']]\n",
        "\n",
        "vogais('abcde') # RESOLUÇÂO"
      ],
      "execution_count": null,
      "outputs": []
    },
    {
      "cell_type": "code",
      "metadata": {
        "id": "YZXmxRtqLUA3"
      },
      "source": [
        "# COMPREENSÃO DE DICIONÁRIO\n",
        "\n",
        "{x:x**2 for x in range(10)}\n",
        "{x:x*x for x in range(0,31)}"
      ],
      "execution_count": null,
      "outputs": []
    },
    {
      "cell_type": "code",
      "metadata": {
        "id": "L4B0XdbFMt0G"
      },
      "source": [
        "# rev = lambda s: s[::-1][0]\n",
        "# rev('hello')\n",
        "\n",
        "# mult = lambda x, y: x * y\n",
        "# mult(2,4)\n",
        "\n",
        "# meio_da_string = lambda s: s[round((len(x) / 2) + 0.1) -1] if len(x) % 2 == 1 else \"\"\n",
        "# print(meio_da_string(crazy))\n",
        "\n",
        "\n",
        "class Agenda:\n",
        "    compromissos = []\n",
        "\n",
        "    def __init__(self, nome):\n",
        "        # self.register = register\n",
        "        # self.remove_register = remove_register\n",
        "\n",
        "    def register(compromisso):\n",
        "        add_task = print(f'Você adicionou {compromisso} à sua agenda!')\n",
        "        compromissos.append(add_taks)\n",
        "        print(compromissos)\n",
        "\n",
        "    def remove_register(self, compromisso):\n",
        "        remove_task = print(f'Você removeu {compromisso} da sua agenda!')\n",
        "        compromissos.pop(remove_task)\n",
        "\n",
        "agenda = Agenda('My Book')\n"
      ],
      "execution_count": null,
      "outputs": []
    },
    {
      "cell_type": "code",
      "metadata": {
        "id": "ACIpBEUxbWGV"
      },
      "source": [
        "class Agenda:\n",
        "    compromissos = []\n",
        "\n",
        "    def __init__(self, isOwner):\n",
        "        self.isOwner = isOwner\n",
        "\n",
        "    def register_task(self, compromisso):\n",
        "        self.compromissos.append(compromisso)\n",
        "        print(f'\\nCompromisso inserido: {compromisso}\\n')\n",
        "\n",
        "    def remove_task(self, compromisso):\n",
        "        self.compromissos.remove(compromisso)\n",
        "        print(f'\\nCompromisso removido: {compromisso}\\n')\n",
        "\n",
        "    def show_task(self):\n",
        "        print(self.compromissos)\n",
        "\n",
        "# from main import Agenda\n",
        "\n",
        "print('*' * 30, ' AGENDA: SE ORGANIZE! ', '*' * 30)\n",
        "\n",
        "\n",
        "def inicio(menu):\n",
        "    agenda = Agenda('My Book')\n",
        "\n",
        "    if menu == '1':\n",
        "        add_task = input('Digite o compromisso que deseja adicionar:\\n')\n",
        "        agenda.register_task(add_task)\n",
        "        return titulo()\n",
        "\n",
        "    if menu == '2':\n",
        "        try:\n",
        "            remove_task = input('Digite o compromisso que vai excluir:\\n')\n",
        "            agenda.remove_task(remove_task)\n",
        "            return titulo()\n",
        "        except ValueError as Error:\n",
        "            if Error:\n",
        "                print(f'Erro: Esse valor não se encontra dentro da Lista, tente '\n",
        "'novamente...')\n",
        "\n",
        "    if menu == '3':\n",
        "        print('\\nLista de Tarefas:\\n')\n",
        "        print(f'\\n{agenda.show_task()}')\n",
        "        return titulo()\n",
        "\n",
        "    if menu != '1' and menu != '2' and menu != '3':\n",
        "        print('Será que digitou o item correto?\\n')\n",
        "        return titulo()\n",
        "\n",
        "\n",
        "def titulo():\n",
        "    menu = input('O que deseja realizar?\\n\\n[1] Adicionar Compromisso'\n",
        "'\\n[2] Excluir Compromisso\\n'\n",
        "                 '[3] Listar Compromissos\\nQual o número: \\n')\n",
        "    return inicio(menu)\n",
        "\n",
        "\n",
        "inicio(titulo())\n"
      ],
      "execution_count": null,
      "outputs": []
    },
    {
      "cell_type": "markdown",
      "metadata": {
        "id": "fxjODgbDD1Eb"
      },
      "source": []
    },
    {
      "cell_type": "code",
      "metadata": {
        "id": "2fAc7hn8D0Ec"
      },
      "source": [],
      "execution_count": null,
      "outputs": []
    }
  ]
}