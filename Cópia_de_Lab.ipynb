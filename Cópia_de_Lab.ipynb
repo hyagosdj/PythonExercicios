{
  "nbformat": 4,
  "nbformat_minor": 0,
  "metadata": {
    "colab": {
      "provenance": [],
      "authorship_tag": "ABX9TyNgotNVQWuW6qSt+Dx1LWZ7",
      "include_colab_link": true
    },
    "kernelspec": {
      "display_name": "Python 3",
      "name": "python3"
    }
  },
  "cells": [
    {
      "cell_type": "markdown",
      "metadata": {
        "id": "view-in-github",
        "colab_type": "text"
      },
      "source": [
        "<a href=\"https://colab.research.google.com/github/hyagow/PythonExercicios/blob/main/C%C3%B3pia_de_Lab.ipynb\" target=\"_parent\"><img src=\"https://colab.research.google.com/assets/colab-badge.svg\" alt=\"Open In Colab\"/></a>"
      ]
    },
    {
      "cell_type": "markdown",
      "metadata": {
        "id": "VJ8dtLH2kzmY"
      },
      "source": [
        "TESTANDO O CONHECIMENTO DE FOR... IN... RANGE.. LEN.."
      ]
    },
    {
      "cell_type": "code",
      "metadata": {
        "id": "-m3ty_qGd6o1",
        "colab": {
          "base_uri": "https://localhost:8080/"
        },
        "outputId": "fb4e42ce-27e0-4fda-ecd7-721605888699"
      },
      "source": [
        "nome = input('Digite um nome: ')\n",
        "\n",
        "for i in range(len(nome)):\n",
        "  print('Achei o ', nome[i],'na posição:', i)"
      ],
      "execution_count": 1,
      "outputs": [
        {
          "output_type": "stream",
          "name": "stdout",
          "text": [
            "Digite um nome: Hyago\n",
            "Achei o  H na posição: 0\n",
            "Achei o  y na posição: 1\n",
            "Achei o  a na posição: 2\n",
            "Achei o  g na posição: 3\n",
            "Achei o  o na posição: 4\n"
          ]
        }
      ]
    },
    {
      "cell_type": "code",
      "metadata": {
        "id": "h4Dk0c7Mnfnv"
      },
      "source": [
        "lista = ['a', 0, 1, 2, 'f']\n",
        "\n",
        "for i in lista:\n",
        "  print(i)"
      ],
      "execution_count": null,
      "outputs": []
    },
    {
      "cell_type": "markdown",
      "metadata": {
        "id": "bZiRKsApnqCl"
      },
      "source": [
        "TESTANDO CONHECIMENTO EM FUNÇÕES: def..."
      ]
    },
    {
      "cell_type": "code",
      "metadata": {
        "id": "WNKIynmMnwh0"
      },
      "source": [
        "while True:\n",
        "  def receber():\n",
        "    num1 = input('Número:')\n",
        "    num2 = input('Número:')\n",
        "\n",
        "    if num1.isdigit() or num2.isdigit():\n",
        "      print('Números não possuem letras, tente novamente')\n",
        "\n",
        "    operacao = input('Digite a operação que deseja realizar:\\n[A]:  ADIÇÃO\\n[B]:\\\n",
        "    SUBTRAÇÃO\\n[C]:  MULTIPLICAÇÃO\\n[D]:  DIVISÃO\\n').upper()\n",
        "\n",
        "    if operacao == 'A':\n",
        "      resultado = num1 + num2\n",
        "\n",
        "    if operacao == 'B':\n",
        "      resultado = num1 - num2\n",
        "\n",
        "    if operacao == 'C':\n",
        "      resultado = num1 * num2\n",
        "\n",
        "    if operacao == 'D':\n",
        "      resultado = num1 / num2\n",
        "    return 'New number:', resultado\n",
        "\n",
        "  # quando tratasse de return, não precisa utilizar print ou armazenar em uma var\n",
        "  receber()\n"
      ],
      "execution_count": null,
      "outputs": []
    },
    {
      "cell_type": "code",
      "metadata": {
        "id": "SczsVBRVqFNv"
      },
      "source": [
        "def conta_bomba(A, lin, col):\n",
        "  posicoes_com_bomba = 0\n",
        "  if lin > 0 and A[lin-1][col] == -1:\n",
        "    posicoes_com_bomba += 1\n",
        "  if lin < len(A) - 1 and A[lin+1][col] == -1:\n",
        "    posicoes_com_bomba += 1\n",
        "  if col > 0 and A[lin][col-1] == -1:\n",
        "    posicoes_com_bomba += 1\n",
        "  if col < len(A[0]) - 1 and A[lin][col+1] == -1:\n",
        "    posicoes_com_bomba += 1\n",
        "\n",
        "  return posicoes_com_bomba\n",
        "\n",
        "def main():\n",
        "  m = int(input(\"Numero de linhas: \"))\n",
        "  n = int(input(\"Numero de colunas: \"))\n",
        "  A = []\n",
        "  for i in range(m):\n",
        "    linha = []\n",
        "    for j in range(n):\n",
        "        linha.append(int(input(\"Digite A[%d][%d]: \" % (i, j))))\n",
        "    A.append(linha)\n",
        "  for i in range(m):\n",
        "    for j in range(n):\n",
        "      print(\"Bombas ao redor de A[%d][%d]: %d\" % (i, j, conta_bomba(A, i, j)))\n",
        "main()"
      ],
      "execution_count": null,
      "outputs": []
    },
    {
      "cell_type": "markdown",
      "metadata": {
        "id": "tUzk3gb7TcSI"
      },
      "source": [
        "## Abaixo é o exercício finalizado de POSTO DE GASOLINA"
      ]
    },
    {
      "cell_type": "code",
      "metadata": {
        "id": "2P2_D0trLWE2"
      },
      "source": [
        "def opcao(litros):\n",
        "    tipo = input('Qual o tipo de combustível: \\n[A] - Álcool\\n[G] - Gasolina\\n').upper()\n",
        "    if tipo == 'A':\n",
        "      litros = int(litros)  # CONVERSÃO\n",
        "      if litros <= 20:\n",
        "          menor_a = (litros - (litros / 100 * 3)) * 1.9\n",
        "          print(f'\\n{menor_a:.2f}\\n')\n",
        "\n",
        "      elif litros > 20:\n",
        "          maior_a = (litros - (litros / 100 * 5)) * 1.9\n",
        "          print(f'\\n{maior_a:.2f}\\n')\n",
        "\n",
        "    if tipo == 'G':\n",
        "      litros = int(litros) # CONVERSÃO 2\n",
        "      if litros <= 20:\n",
        "        menor_g = (litros - (litros / 100 * 4)) * 2.5\n",
        "        print(f'\\n{menor_g:.2f}\\n')\n",
        "\n",
        "      elif litros > 20:\n",
        "          maior_g = (litros - (litros / 100 * 6)) * 2.5\n",
        "          print(f'\\n{maior_g:.2f}\\n')\n",
        "\n",
        "def input_litros(lin):\n",
        "\n",
        "    if (lin.isnumeric()):\n",
        "        print('\\nYEEEEAH!!\\n')\n",
        "        opcao(lin)\n",
        "\n",
        "    elif (lin.replace('.', '', 1).isnumeric()):\n",
        "        print('\\nYEEEEAH!!\\n')\n",
        "        opcao(lin)\n",
        "\n",
        "    else:\n",
        "        print('Isso não é um número, tente novamente!')\n",
        "\n",
        "from random import randint\n",
        "\n",
        "for i in range(5):\n",
        "    litros = randint(0, 30)\n",
        "\n",
        "litros = input('Quantos litros deseja comprar: ')\n",
        "input_litros(litros)\n",
        "\n",
        "\n",
        "\"\"\"\n",
        "1 - Valores devem ficar fora.\n",
        "2 - Ao definir as funções passar parâmetros - \"input_litros(litros)\".\n",
        "3 - No caso acima a função \"def input_litros(lin)\" é a primária(main).\n",
        "    Ela verifica e chama a secundária!\n",
        "4 - Nesse caso a função \"def opcao(litros)\" é secundária.\n",
        "\"\"\"\n"
      ],
      "execution_count": null,
      "outputs": []
    },
    {
      "cell_type": "markdown",
      "metadata": {
        "id": "HapsMSuZTuRt"
      },
      "source": [
        "## EXERCÍCIO 27 DE PYTHON - VENDA DE FRUTAS"
      ]
    },
    {
      "cell_type": "code",
      "metadata": {
        "id": "yxb3srE4T5Wi"
      },
      "source": [
        "\"\"\"\n",
        "Uma fruteira está vendendo frutas com a seguinte tabela de preços:\n",
        "                      Até 5 Kg           Acima de 5 Kg\n",
        "Morango         R$ 2,50 por Kg          R$ 2,20 por Kg\n",
        "Maçã            R$ 1,80 por Kg          R$ 1,50 por Kg\n",
        "Se o cliente comprar mais de 8 Kg em frutas ou o valor total da compra\n",
        "ultrapassar R$ 25,00, receberá ainda um desconto de 10% sobre este total.\n",
        "# Escreva um algoritmo para ler a quantidade (em Kg) de morangos e a quantidade\n",
        "(em Kg) de maças adquiridas e escreva o valor a ser pago pelo cliente.\n",
        "\"\"\"\n",
        "\n",
        "def verificacao():\n",
        "  if morango_kg <= 5 and maca_kg <= 5:  # Outra opção  or maca_kg <= 5 and morango_kg <= 5\n",
        "    tt_frutas = morango_kg + maca_kg\n",
        "    v_morango = 2.5\n",
        "    v_maca = 1.8\n",
        "    v_tt_frutas = tt_frutas * (v_morango + v_maca)\n",
        "    print(tt_frutas,'1º')\n",
        "    print(v_tt_frutas)\n",
        "\n",
        "    if tt_frutas > 8 or v_tt_frutas > 25:\n",
        "      v_tt_frutas = v_tt_frutas - (v_tt_frutas / 100 * 10)\n",
        "      print(f'Valor com o desconto R${v_tt_frutas}\\n')\n",
        "    else:\n",
        "      pass\n",
        "\n",
        "  elif morango_kg > 5 and maca_kg > 5:\n",
        "    tt_frutas = morango_kg + maca_kg\n",
        "    v_morango = 2.2\n",
        "    v_maca = 1.5\n",
        "    v_tt_frutas = tt_frutas * (v_morango + v_maca)\n",
        "    print(tt_frutas,'2º')\n",
        "    print(v_tt_frutas)\n",
        "\n",
        "    if tt_frutas > 8 or v_tt_frutas > 25:\n",
        "      v_tt_frutas = v_tt_frutas - (v_tt_frutas / 100 * 10)\n",
        "      print(f'Valor com o desconto R${v_tt_frutas}\\n')\n",
        "    else:\n",
        "      pass\n",
        "\n",
        "  elif morango_kg > 5 and maca_kg <= 5:\n",
        "    tt_frutas = morango_kg + maca_kg\n",
        "    v_morango = 2.2\n",
        "    v_maca = 1.8\n",
        "    v_tt_frutas = tt_frutas * (v_morango + v_maca)\n",
        "    print(tt_frutas,'3º')\n",
        "    print(v_tt_frutas)\n",
        "\n",
        "    if tt_frutas > 8 or v_tt_frutas > 25:\n",
        "      v_tt_frutas = v_tt_frutas - (v_tt_frutas / 100 * 10)\n",
        "      print(f'Valor com o desconto R${v_tt_frutas}\\n')\n",
        "\n",
        "    else:\n",
        "      pass\n",
        "\n",
        "  elif morango_kg <= 5 and maca_kg > 5:\n",
        "    tt_frutas = morango_kg + maca_kg\n",
        "    v_morango = 2.5\n",
        "    v_maca = 1.5\n",
        "    v_tt_frutas = tt_frutas * (v_morango + v_maca)\n",
        "    print(tt_frutas,'4º')\n",
        "    print(v_tt_frutas)\n",
        "\n",
        "    if tt_frutas > 8 or v_tt_frutas > 25:\n",
        "      v_tt_frutas = v_tt_frutas - (v_tt_frutas / 100 * 10)\n",
        "      print(f'Valor com o desconto R${v_tt_frutas}\\n')\n",
        "    else:\n",
        "      pass\n",
        "\n",
        "  else:\n",
        "    print('Entrei na função, mas tem algo errado, poderia verificar?!')\n",
        "\n",
        "#INPUT\n",
        "morango_kg = input('Digite os kilos de morango deseja: ')\n",
        "maca_kg = input('Digite os kilos de maça deseja: ')\n",
        "\n",
        "#VAR\n",
        "morango_kg = int(morango_kg)\n",
        "maca_kg = int(maca_kg)\n",
        "\n",
        "verificacao()  # CHAMA FUNÇÃO\n"
      ],
      "execution_count": null,
      "outputs": []
    },
    {
      "cell_type": "markdown",
      "metadata": {
        "id": "R1nemXeIz-mn"
      },
      "source": [
        "**EXERCÍCIO PROPOSTO: Cálculo de Valores do Carrinho - LUIZ OTÁVIO**"
      ]
    },
    {
      "cell_type": "code",
      "metadata": {
        "colab": {
          "base_uri": "https://localhost:8080/"
        },
        "id": "X4lVKt5r2YWe",
        "outputId": "a4c6f1bd-5728-4193-e296-b367b62ae2f4"
      },
      "source": [
        "l1 = [1, 2, 3, 4, 5, 6, 7, 8, 9]\n",
        "\n",
        "l2 = [variavel for variavel in l1]\n",
        "print(l2)\n",
        "\n",
        "l3 = [v * 2 for v in l1]\n",
        "print(l3)\n",
        "\n",
        "l4 = [(v, v2) for v in l1 for v2 in range(3)]  # v itera sobre a (l1) e o v2 ite\n",
        "                                               # ra sobre o range()\n",
        "#print(l4)\n",
        "print('*' * 85)\n",
        "################################################################################\n",
        "\n",
        "carrinho = []\n",
        "\n",
        "carrinho.append(('Produto 1', 30))\n",
        "carrinho.append(('Produto 2', 20))\n",
        "carrinho.append(('Produto 3', 50))\n",
        "\n",
        "# total = []\n",
        "# for produto in carrinho:\n",
        "#   total.append(produto[1])\n",
        "# print(sum(total))\n",
        "\n",
        "print()\n",
        "\n",
        "Total = sum([ float(y) for x, y in carrinho])\n",
        "\n",
        "print(Total)"
      ],
      "execution_count": null,
      "outputs": [
        {
          "output_type": "stream",
          "text": [
            "[1, 2, 3, 4, 5, 6, 7, 8, 9]\n",
            "[2, 4, 6, 8, 10, 12, 14, 16, 18]\n",
            "*************************************************************************************\n",
            "\n",
            "100.0\n"
          ],
          "name": "stdout"
        }
      ]
    },
    {
      "cell_type": "markdown",
      "metadata": {
        "id": "hF2ZHobhmY6G"
      },
      "source": [
        "**ZIP e ZIP_LONGEST #Bônus: Básico do Count**"
      ]
    },
    {
      "cell_type": "code",
      "metadata": {
        "colab": {
          "base_uri": "https://localhost:8080/"
        },
        "id": "qGBkeWkEbPV5",
        "outputId": "2b7cef3c-7c11-4843-ae11-06ac6b720654"
      },
      "source": [
        "\"\"\"\n",
        "Zip - Unindo interáveis - menor lista\\ no caso de usar count, utilizar o zip comum\n",
        "Zip_longest - itertools - maior lista\\ precisa importar do itertools\n",
        "\"\"\"\n",
        "from itertools import zip_longest, count\n",
        "\n",
        "indice = count()\n",
        "### Código\n",
        "cidades = ['São Paulo', 'Belo Horizonte', 'Salvador', 'Monte Belo']\n",
        "\n",
        "# Código\n",
        "estados = ['SP', 'MG', 'BA']\n",
        "\n",
        "cidades_estados = zip(\n",
        "    indice,\n",
        "    estados,\n",
        "    cidades,\n",
        "    # fillvalue='Estado'\n",
        ")\n",
        "# print(dict(cidades_estados))\n",
        "# print(next(cidades_estados))\n",
        "# for valor in cidades_estados:\n",
        "#   print(dict(valor))\n",
        "\n",
        "for indice, estado, cidade in cidades_estados:\n",
        "  print(indice, estado, cidade)"
      ],
      "execution_count": null,
      "outputs": [
        {
          "output_type": "stream",
          "text": [
            "0 SP São Paulo\n",
            "1 MG Belo Horizonte\n",
            "2 BA Salvador\n"
          ],
          "name": "stdout"
        }
      ]
    },
    {
      "cell_type": "markdown",
      "metadata": {
        "id": "SyO-mvFUmm8-"
      },
      "source": [
        "**EXERCÍCIO DE APLICAÇÃO DE CONTEÚDO OBTIDO.**"
      ]
    },
    {
      "cell_type": "code",
      "metadata": {
        "colab": {
          "base_uri": "https://localhost:8080/"
        },
        "id": "172O5kZTmmOA",
        "outputId": "2651f5fe-6f5c-4cca-84b9-21171025e087"
      },
      "source": [
        "\"\"\"\n",
        "Considerando duas listas de inteiros ou floats (lista A e Lista B)\n",
        "Some os valores nas listas retornando uma nova lista com os valores:\n",
        "\n",
        "Se uma lista for maior que a outra, a soma só vai considerar o tamanho da menor.\n",
        "Exemplo:\n",
        "lista_a  = [1, 2, 3, 4, 5, 6, 7]\n",
        "lista_b  = [1, 2, 3, 4]\n",
        "\n",
        "******************** resultado\n",
        "lista_soma = [2, 4, 6, 8]\n",
        "\"\"\"\n",
        "# print('Exercício proposto: Calcular 2 Listas, porém só a menor deve aparecer.')\n",
        "#\n",
        "# lista_a = [11, 2, 3, 4, 5, 6, 7]\n",
        "# lista_b = [1, 12, 3, 4]\n",
        "# l1 = [sum(y) for y in zip(lista_a, lista_b)]\n",
        "# print(l1)\n",
        "\n",
        "print('-' * 30, 'Supermercado CompreMais', '-' * 30, '\\n')\n",
        "\n",
        "\n",
        "def total(carrinho1):\n",
        "    total1 = sum([float(y) for x, y in carrinho1])\n",
        "    print(f'Valor total à pagar: R$ {total1}')\n",
        "\n",
        "\n",
        "def input_compra(carrinho1):\n",
        "    while True:\n",
        "        produto = input('Produto: ')\n",
        "        valor = float(input('Digite o valor do produto: R$ '))\n",
        "        produto = produto, valor\n",
        "        carrinho1.append(produto)\n",
        "        print(carrinho1)\n",
        "        continuacao = input('\\nSó isso mesmo? [S/N]\\n').upper()\n",
        "        if continuacao == 'S':\n",
        "            continue\n",
        "        elif continuacao == 'N':\n",
        "            total(carrinho1)\n",
        "            break\n",
        "        else:\n",
        "            print('Opção inválida!')\n",
        "            continue\n",
        "\n",
        "\n",
        "carrinho = []\n",
        "input_compra(carrinho)\n"
      ],
      "execution_count": null,
      "outputs": [
        {
          "output_type": "stream",
          "text": [
            "------------------------------ Supermercado CompreMais ------------------------------ \n",
            "\n",
            "Produto: Maçã\n",
            "Digite o valor do produto: R$ 10\n",
            "[('Maçã', 10.0)]\n",
            "\n",
            "Só isso mesmo? [S/N]\n",
            "s\n",
            "Produto: pera\n",
            "Digite o valor do produto: R$ 4\n",
            "[('Maçã', 10.0), ('pera', 4.0)]\n",
            "\n",
            "Só isso mesmo? [S/N]\n",
            "n\n",
            "Valor total à pagar: R$ 14.0\n"
          ],
          "name": "stdout"
        }
      ]
    }
  ]
}