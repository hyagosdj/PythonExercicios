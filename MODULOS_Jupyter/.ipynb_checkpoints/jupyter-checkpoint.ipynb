{
 "cells": [
  {
   "cell_type": "markdown",
   "id": "7f5f93f4-9c5d-4fcd-a2db-327f664689e6",
   "metadata": {},
   "source": [
    "# Esse é o meu título.\n",
    "Essa linha cria uma variável `a`"
   ]
  },
  {
   "cell_type": "code",
   "execution_count": 2,
   "id": "0dd4b84c-369e-40f3-8797-dc0a12c03ac3",
   "metadata": {},
   "outputs": [],
   "source": [
    "a = 2"
   ]
  },
  {
   "cell_type": "markdown",
   "id": "e34dd0ed-64ff-4806-8aac-812594677e08",
   "metadata": {},
   "source": [
    "Essa linha tem o valor da variável `a` em dobro"
   ]
  },
  {
   "cell_type": "code",
   "execution_count": null,
   "id": "6861a5b0-72f1-4c5e-903f-3d103cfb1dc1",
   "metadata": {},
   "outputs": [],
   "source": [
    "a = 2\n",
    "a"
   ]
  },
  {
   "cell_type": "code",
   "execution_count": null,
   "id": "333d7b7a-2409-4407-9335-8bd41819199b",
   "metadata": {},
   "outputs": [],
   "source": [
    "b = a * 2\n",
    "b"
   ]
  },
  {
   "cell_type": "markdown",
   "id": "c1f51317-a6ee-4d3f-a965-a44f58f1fdfe",
   "metadata": {},
   "source": [
    "Essa linha mostra o valor de `a` + `b`"
   ]
  },
  {
   "cell_type": "code",
   "execution_count": null,
   "id": "381f1d2e-97e1-4613-9127-75f226f0d452",
   "metadata": {},
   "outputs": [],
   "source": [
    "a + b"
   ]
  }
 ],
 "metadata": {
  "kernelspec": {
   "display_name": "Python 3 (ipykernel)",
   "language": "python",
   "name": "python3"
  },
  "language_info": {
   "codemirror_mode": {
    "name": "ipython",
    "version": 3
   },
   "file_extension": ".py",
   "mimetype": "text/x-python",
   "name": "python",
   "nbconvert_exporter": "python",
   "pygments_lexer": "ipython3",
   "version": "3.12.2"
  }
 },
 "nbformat": 4,
 "nbformat_minor": 5
}
